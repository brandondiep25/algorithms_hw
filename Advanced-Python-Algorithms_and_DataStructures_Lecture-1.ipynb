{
 "cells": [
  {
   "cell_type": "markdown",
   "metadata": {},
   "source": [
    "# Algorithms, Binary Search & Linked Lists"
   ]
  },
  {
   "cell_type": "markdown",
   "metadata": {},
   "source": [
    "## Tasks Today:\n",
    " \n",
    "1) <b>In-Place Algorithms</b> <br>\n",
    " &nbsp;&nbsp;&nbsp;&nbsp; a) Syntax <br>\n",
    " &nbsp;&nbsp;&nbsp;&nbsp; a) Out of Place Algorithm <br>\n",
    " &nbsp;&nbsp;&nbsp;&nbsp; b) In-Class Exercise #1 <br>\n",
    "2) <b>Two Pointers</b> <br>\n",
    "3) <b>Linked Lists</b> <br>\n",
    "4) <b>Merge Sort</b> <br>\n",
    " &nbsp;&nbsp;&nbsp;&nbsp; a) Video on Algorithms <br>\n",
    " &nbsp;&nbsp;&nbsp;&nbsp; b) How it Works <br>\n",
    "5) <b>Exercises</b> <br>\n",
    " &nbsp;&nbsp;&nbsp;&nbsp; a) Exercise #1 - Write Insertion Sort <br>\n",
    " &nbsp;&nbsp;&nbsp;&nbsp; b) Exercise #2 - Reverse a List in Place Using an In-Place Algorithm <br>\n",
    " &nbsp;&nbsp;&nbsp;&nbsp; c) Exercise #3 - Find Distinct Words <br>"
   ]
  },
  {
   "cell_type": "markdown",
   "metadata": {},
   "source": [
    "## In-Place Algorithms"
   ]
  },
  {
   "cell_type": "markdown",
   "metadata": {},
   "source": [
    "#### Syntax"
   ]
  },
  {
   "cell_type": "code",
   "execution_count": 2,
   "metadata": {},
   "outputs": [
    {
     "name": "stdout",
     "output_type": "stream",
     "text": [
      "[10, 5]\n",
      "[5, 10]\n"
     ]
    }
   ],
   "source": [
    "# var[i], var[i + 1] = var[i + 1], var[i]\n",
    "# sometimes called a swap\n",
    "\n",
    "def swap(alist,x,y):\n",
    "    alist[x],alist[y] = alist[y],alist[x]\n",
    "    return alist\n",
    "\n",
    "my_list = [10,5]\n",
    "print(my_list)\n",
    "swap (my_list,0,1)\n",
    "\n",
    "print(my_list)"
   ]
  },
  {
   "cell_type": "markdown",
   "metadata": {},
   "source": [
    "#### Out of Place Algorithm"
   ]
  },
  {
   "cell_type": "code",
   "execution_count": 4,
   "metadata": {},
   "outputs": [
    {
     "name": "stdout",
     "output_type": "stream",
     "text": [
      "[10, 5]\n",
      "[5, 10]\n"
     ]
    }
   ],
   "source": [
    "# not swapping, but rather reversing completely\n",
    "print(my_list[::-1])\n",
    "print(my_list)\n"
   ]
  },
  {
   "cell_type": "markdown",
   "metadata": {},
   "source": [
    "#### In-Class Exercise #1 <br>\n",
    "<p>Write a function that takes in four arguments (list, index1, index2, index3), and swaps those three positions in the list passed in.</p>"
   ]
  },
  {
   "cell_type": "code",
   "execution_count": 14,
   "metadata": {},
   "outputs": [
    {
     "name": "stdout",
     "output_type": "stream",
     "text": [
      "[10, 4, 3, 8, 4, 2, 6]\n",
      "[10, 4, 6, 8, 4, 3, 2]\n"
     ]
    }
   ],
   "source": [
    "l_1 = [10, 4, 3, 8, 4, 2, 6]\n",
    "\n",
    "def swap(new_list,x,y,z):\n",
    "    new_list[x],new_list[y],new_list[z] = new_list[z],new_list[x],new_list[y]\n",
    "    return new_list\n",
    "\n",
    "print(l_1)\n",
    "swap (l_1,2,5,6)\n",
    "\n",
    "print(l_1)\n",
    "\n"
   ]
  },
  {
   "cell_type": "markdown",
   "metadata": {},
   "source": [
    "## Two Pointers"
   ]
  },
  {
   "cell_type": "markdown",
   "metadata": {},
   "source": [
    "#### Syntax"
   ]
  },
  {
   "cell_type": "code",
   "execution_count": 18,
   "metadata": {},
   "outputs": [
    {
     "name": "stdout",
     "output_type": "stream",
     "text": [
      "[2, 3, 4, 8, 6, 4, 10]\n"
     ]
    },
    {
     "data": {
      "text/plain": [
       "[10, 4, 6, 8, 4, 3, 2]"
      ]
     },
     "execution_count": 18,
     "metadata": {},
     "output_type": "execute_result"
    }
   ],
   "source": [
    "# alist[left], alist[right] = alist[right], alist[left]\n",
    "# use two pointers to swap, uses while loop\n",
    "\n",
    "def twoPointers(alist):\n",
    "    #Create pointers here\n",
    "    left = 0\n",
    "    right = len(alist) - 1\n",
    "    while left <= right:\n",
    "        alist[left],alist[right] = alist[right], alist[left]\n",
    "        left += 1\n",
    "        right -= 1\n",
    "    return(alist)\n",
    "\n",
    "print(l_1)\n",
    "twoPointers(l_1)\n",
    "\n",
    "#JUST LIKE .reverse BUT IS HOW IT WORKS"
   ]
  },
  {
   "cell_type": "markdown",
   "metadata": {},
   "source": [
    "# Linked List (Data Structure)\n",
    "\n",
    "A linked list is created by using the node class. We create a Node object and create another class to use this node object. We pass the appropriate values thorugh the node object to point the to the next data elements.\n",
    "\n",
    "There are some advantages and disadvantages with this data structure. **Advantages** Linked Lists can save memory because they can be flexibile with memory management which saves memory. **Disadvantages** Finding or adding to the list requires traversing the entire list."
   ]
  },
  {
   "cell_type": "code",
   "execution_count": 25,
   "metadata": {},
   "outputs": [
    {
     "name": "stdout",
     "output_type": "stream",
     "text": [
      "20\n",
      "100\n",
      "50\n",
      "Mon\n"
     ]
    }
   ],
   "source": [
    "class LinkedListNode():\n",
    "    def __init__(self,value):\n",
    "        self.value = value\n",
    "        self.next = None #This is the next pointer, which is initially NONE\n",
    "    \n",
    "    def traverseList(self):\n",
    "        node = self #set start at the head node\n",
    "        while node != None:\n",
    "            print(node.value) #Access to the value in the node\n",
    "            node = node.next\n",
    "            \n",
    "node_head = LinkedListNode(20)\n",
    "node_second = LinkedListNode(100)\n",
    "node_third = LinkedListNode(50)\n",
    "\n",
    "node_head.next = node_second # 20 => 100\n",
    "node_second.next = node_third # 100 => 50\n",
    "\n",
    "node_head.traverseList()\n",
    "\n",
    "node1 = LinkedListNode(\"Mon\")\n",
    "node2= LinkedListNode(\"Tues\")\n",
    "\n",
    "node1.traverseList()"
   ]
  },
  {
   "cell_type": "markdown",
   "metadata": {},
   "source": [
    "## Stacks and Queues\n",
    "\n",
    "** Stacks ** as the name suggests is a data structure that allows for data to follow the Last In First Out priciple(LIFO). Think of a stack of pancakes for example. To get the first pancake you would  start with the top and go down.\n",
    "\n",
    "** Queues ** are similar but in this case follow the First In First Out principle(FIFO). Think of this as a line in a black friday sale. The first person camped out for the big screen tv is the first to get it."
   ]
  },
  {
   "cell_type": "code",
   "execution_count": 27,
   "metadata": {},
   "outputs": [
    {
     "name": "stdout",
     "output_type": "stream",
     "text": [
      "U\n",
      "10\n"
     ]
    }
   ],
   "source": [
    "# Stacks and Queues can be created using python lists\n",
    "\n",
    "# Append() and pop() = stack\n",
    "stack = []\n",
    "stack.append(\"A\")\n",
    "stack.append(\"E\")\n",
    "stack.append(\"I\")\n",
    "stack.append(\"O\")\n",
    "stack.append(\"U\")\n",
    "last_item_stack = stack.pop()\n",
    "print(last_item_stack)\n",
    "\n",
    "\n",
    "\n",
    "#Append() and pop(0) = queue\n",
    "queue = []\n",
    "queue.append(10)\n",
    "queue.append(20)\n",
    "queue.append(30)\n",
    "\n",
    "first_item_queue = queue.pop(0)\n",
    "print(first_item_queue)"
   ]
  },
  {
   "cell_type": "markdown",
   "metadata": {},
   "source": [
    "## Merge Sort"
   ]
  },
  {
   "cell_type": "markdown",
   "metadata": {},
   "source": [
    "#### Video of Algorithms <br>\n",
    "<p>Watch the video about algorithms.</p>\n",
    "\n",
    "https://www.youtube.com/watch?v=Q9HjeFD62Uk\n",
    "\n",
    "https://www.youtube.com/watch?v=kPRA0W1kECg\n",
    "\n",
    "https://www.youtube.com/watch?v=ZZuD6iUe3Pc"
   ]
  },
  {
   "cell_type": "markdown",
   "metadata": {},
   "source": [
    "#### How it Works"
   ]
  },
  {
   "cell_type": "code",
   "execution_count": 34,
   "metadata": {},
   "outputs": [
    {
     "name": "stdout",
     "output_type": "stream",
     "text": [
      "Splitting:  [9, 16, 8, 16, 13]\n",
      "Splitting:  [9, 16]\n",
      "Splitting:  [9]\n",
      "Merging:  [9]\n",
      "Splitting:  [16]\n",
      "Merging:  [16]\n",
      "Merging:  [9, 16]\n",
      "Splitting:  [8, 16, 13]\n",
      "Splitting:  [8]\n",
      "Merging:  [8]\n",
      "Splitting:  [16, 13]\n",
      "Splitting:  [16]\n",
      "Merging:  [16]\n",
      "Splitting:  [13]\n",
      "Merging:  [13]\n",
      "Merging:  [13, 16]\n",
      "Merging:  [8, 13, 16]\n",
      "Merging:  [8, 9, 13, 16, 16]\n"
     ]
    },
    {
     "data": {
      "text/plain": [
       "[8, 9, 13, 16, 16]"
      ]
     },
     "execution_count": 34,
     "metadata": {},
     "output_type": "execute_result"
    }
   ],
   "source": [
    "# Step 1: Split everything into it's own group\n",
    "# Step 2: From left to right merge two groups together\n",
    "# Step 3: While merging, place each item in the correct position within the merged group\n",
    "# Step 4: Continue steps 3-4 until one group is left\n",
    "\n",
    "from random import randint\n",
    "# used to generate a random list of 10 numbers from 0 to 100\n",
    "nums = [randint(0, 20) for i in range(5)]\n",
    "# write merge sort\n",
    "def mergeSort(alist):\n",
    "    print(\"Splitting: \", alist)\n",
    "    # Step 1: Divide and Conquer - Divide the list into equal halves\n",
    "    if len(alist) > 1:\n",
    "        mid = len(alist) // 2\n",
    "        lefthalf = alist [:mid]\n",
    "        righthalf = alist [mid:]\n",
    "        \n",
    "        mergeSort(lefthalf)\n",
    "        mergeSort(righthalf)\n",
    "        \n",
    "        #Index pointers for our list\n",
    "        i = 0\n",
    "        j = 0\n",
    "        k = 0\n",
    "        \n",
    "        \n",
    "    #Step 2: Compare indexes for the lefthalf and righthalf respectively\n",
    "        while i < len(lefthalf) and j < len(righthalf):\n",
    "            if lefthalf[i] < righthalf[j]:\n",
    "                alist[k] = lefthalf[i]\n",
    "                i += 1\n",
    "            else:\n",
    "                alist[k] = righthalf[j]\n",
    "                j = j + 1\n",
    "            k = k + 1 \n",
    "        while i<len(lefthalf):\n",
    "            alist[k] = lefthalf[i]\n",
    "            i = i + 1\n",
    "            k = k + 1\n",
    "        while j<len(righthalf):\n",
    "            alist[k] = righthalf[j]\n",
    "            j = j + 1\n",
    "            k = k + 1\n",
    "    print(\"Merging: \", alist)\n",
    "    return alist\n",
    "\n",
    "mergeSort(nums)\n",
    "\n",
    "# Worst Case Time Complexity: O(nlog(n)) -- Linear Logorithmic Algorithm runtime\n",
    "# Space Complexity : O(1) - Constant Space"
   ]
  },
  {
   "cell_type": "markdown",
   "metadata": {},
   "source": [
    "# Binary Search\n",
    "\n",
    "The Binary Search algorithm works by finding the number in the middle of a given array and comparing it to the target. Given that the array is sorted\n",
    "\n",
    "* The worst case run time for this algorithm is `O(log(n))`"
   ]
  },
  {
   "cell_type": "code",
   "execution_count": 39,
   "metadata": {},
   "outputs": [
    {
     "data": {
      "text/plain": [
       "'The index is 3'"
      ]
     },
     "execution_count": 39,
     "metadata": {},
     "output_type": "execute_result"
    }
   ],
   "source": [
    "def binarySearch(array, target):\n",
    "    return binarySearchHelper(array, target, 0, len(array) - 1)\n",
    "\n",
    "def binarySearchHelper(array, target, left, right):\n",
    "    while left <= right:\n",
    "        middle = (left + right) // 2\n",
    "        potentialMatch = array[middle]\n",
    "        if target == potentialMatch:\n",
    "            return f\"The index is {middle}\"\n",
    "        elif target < potentialMatch:\n",
    "            right = middle - 1\n",
    "        else: left = middle + 1\n",
    "    return -1\n",
    "\n",
    "\n",
    "binarySearch([10,15,23,98,111],98)\n",
    "        \n",
    "    "
   ]
  },
  {
   "cell_type": "markdown",
   "metadata": {},
   "source": [
    "# Exercises"
   ]
  },
  {
   "cell_type": "markdown",
   "metadata": {},
   "source": [
    "### Exercise #1 <br>\n",
    "<p>Reverse the list below in-place using an in-place algorithm.<br>For extra credit: Reverse the strings at the same time.</p>"
   ]
  },
  {
   "cell_type": "code",
   "execution_count": 95,
   "metadata": {},
   "outputs": [
    {
     "name": "stdout",
     "output_type": "stream",
     "text": [
      "['this', 'is', 'a', 'sentence', '.']\n",
      "['.', 'ecnetnes', 'a', 'si', 'siht']\n",
      "['.', 'sentence', 'a', 'is', 'this']\n"
     ]
    }
   ],
   "source": [
    "words = ['this' , 'is', 'a', 'sentence', '.']\n",
    "\n",
    "\n",
    "#In Place Algorithm\n",
    "def swap(aList,a,b,c,d,e):\n",
    "    aList[a],aList[b],aList[c],aList[d],aList[e] = aList[e][::-1], aList[d][::-1], aList[c][::-1], aList[b][::-1], aList[a][::-1]\n",
    "    return aList\n",
    "\n",
    "\n",
    "print(words)\n",
    "\n",
    "swap(words,0,1,2,3,4)\n",
    "print(words)\n",
    "\n",
    "# --------------------------------------------------------------------------------------------------------------\n",
    "# Out of place -- Extra Credit\n",
    "\n",
    "words = ['this' , 'is', 'a', 'sentence', '.']\n",
    "print(words[::-1])\n",
    "\n",
    "\n",
    "\n",
    "\n",
    "\n"
   ]
  },
  {
   "cell_type": "markdown",
   "metadata": {},
   "source": [
    "### Exercise #2 <br>\n",
    "<p>Create a function that counts how many distinct words are in the string below, then outputs a dictionary with the words as the key and the value as the amount of times that word appears in the string.<br>Should output:<br>{'a': 5,<br>\n",
    " 'abstract': 1,<br>\n",
    " 'an': 3,<br>\n",
    " 'array': 2, ... etc...</p>"
   ]
  },
  {
   "cell_type": "code",
   "execution_count": 101,
   "metadata": {},
   "outputs": [
    {
     "data": {
      "text/plain": [
       "{'in': 1,\n",
       " 'computing,': 1,\n",
       " 'a': 5,\n",
       " 'hash': 4,\n",
       " 'table': 2,\n",
       " 'map': 2,\n",
       " 'is': 1,\n",
       " 'data': 2,\n",
       " 'structure': 2,\n",
       " 'which': 2,\n",
       " 'implements': 1,\n",
       " 'an': 3,\n",
       " 'associative': 1,\n",
       " 'array': 2,\n",
       " 'abstract': 1,\n",
       " 'type,': 1,\n",
       " 'that': 1,\n",
       " 'can': 2,\n",
       " 'keys': 1,\n",
       " 'to': 2,\n",
       " 'values.': 1,\n",
       " 'uses': 1,\n",
       " 'function': 1,\n",
       " 'compute': 1,\n",
       " 'index': 1,\n",
       " 'into': 1,\n",
       " 'of': 1,\n",
       " 'buckets': 1,\n",
       " 'or': 1,\n",
       " 'slots': 1,\n",
       " 'from': 1,\n",
       " 'the': 1,\n",
       " 'desired': 1,\n",
       " 'value': 1,\n",
       " 'be': 1,\n",
       " 'found': 1}"
      ]
     },
     "execution_count": 101,
     "metadata": {},
     "output_type": "execute_result"
    }
   ],
   "source": [
    "a_text = 'In computing, a hash table hash map is a data structure which implements an associative array abstract data type, a structure that can map keys to values. A hash table uses a hash function to compute an index into an array of buckets or slots from which the desired value can be found'\n",
    "\n",
    "def word_count(str):\n",
    "    str = str.lower()\n",
    "    counts = {}\n",
    "    words = str.split(\" \")\n",
    "    \n",
    "    for word in words:\n",
    "        if word in counts:\n",
    "            counts[word] +=1\n",
    "        else:\n",
    "            counts[word] = 1\n",
    "    return counts\n",
    "\n",
    "(word_count(a_text))\n"
   ]
  },
  {
   "cell_type": "markdown",
   "metadata": {},
   "source": [
    "### Exercise #3 : Larger Challenge - Insertion Sort <br>\n",
    "<p>Write a function that performs insertion sort on the list below.</p>\n",
    "\n",
    "<b> Insertion sort is based on the idea that one element from the input elements is consumed in each iteration to find its correct position i.e, the position to which it belongs in a sorted array.</b>\n",
    "\n",
    "Here's a quick example of how insertion sort works:\n",
    "\n",
    "<img src=\"https://he-s3.s3.amazonaws.com/media/uploads/46bfac9.png\">"
   ]
  },
  {
   "cell_type": "code",
   "execution_count": null,
   "metadata": {},
   "outputs": [],
   "source": [
    "from random import randint\n",
    "# used to generate a random list of 10 numbers from 0 to 100\n",
    "nums = [randint(0, 100) for i in range(10)]\n",
    "# write insertion sort\n",
    "\n",
    "# step 1: loop forward to end\n",
    "# step 2: check current index is lower than previous\n",
    "# step3: if so, loop backwards\n",
    "# step4: check if current index is less than previous again\n",
    "# step 5: swap \n",
    "# step 6: if not, break\n",
    "\n",
    "\n",
    "\n",
    "def insertionSort(aList):\n",
    "    pass"
   ]
  }
 ],
 "metadata": {
  "kernelspec": {
   "display_name": "Python 3",
   "language": "python",
   "name": "python3"
  },
  "language_info": {
   "codemirror_mode": {
    "name": "ipython",
    "version": 3
   },
   "file_extension": ".py",
   "mimetype": "text/x-python",
   "name": "python",
   "nbconvert_exporter": "python",
   "pygments_lexer": "ipython3",
   "version": "3.7.4"
  }
 },
 "nbformat": 4,
 "nbformat_minor": 2
}
